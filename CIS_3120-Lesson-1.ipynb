{
  "nbformat": 4,
  "nbformat_minor": 0,
  "metadata": {
    "colab": {
      "provenance": [],
      "authorship_tag": "ABX9TyNl4UnPC8PnrX29bvzMKPoC",
      "include_colab_link": true
    },
    "kernelspec": {
      "name": "python3",
      "display_name": "Python 3"
    },
    "language_info": {
      "name": "python"
    }
  },
  "cells": [
    {
      "cell_type": "markdown",
      "metadata": {
        "id": "view-in-github",
        "colab_type": "text"
      },
      "source": [
        "<a href=\"https://colab.research.google.com/github/rubenjesus02002/Website-Test/blob/main/CIS_3120-Lesson-1.ipynb\" target=\"_parent\"><img src=\"https://colab.research.google.com/assets/colab-badge.svg\" alt=\"Open In Colab\"/></a>"
      ]
    },
    {
      "cell_type": "markdown",
      "source": [
        "# **CIS 3120: Lesson 1**"
      ],
      "metadata": {
        "id": "ErVtLQ5T3Od1"
      }
    },
    {
      "cell_type": "markdown",
      "source": [
        "# **L1: Mathematics Example **"
      ],
      "metadata": {
        "id": "WLiFZNqci3y7"
      }
    },
    {
      "cell_type": "code",
      "source": [
        "#Implement the following equation in python.\n",
        "# 1) Find all values of y given x = -3 to x = 3. Increment x by 0.5.\n",
        "# 2)Print appropriate messages if y is positive, negative or is equal to zero"
      ],
      "metadata": {
        "id": "LldkE8X3S9h0"
      },
      "execution_count": null,
      "outputs": []
    },
    {
      "cell_type": "markdown",
      "source": [
        "# **Question 1: Find all values of y. Increment x by 0.5.**"
      ],
      "metadata": {
        "id": "4247l4-Z3lLv"
      }
    },
    {
      "cell_type": "code",
      "source": [
        "# Find num and denom\n",
        "x = -3\n",
        "\n",
        "numerator = 4* x**3 - 12*x**2 - 9*x + 27\n",
        "denominator = (5*x**2 + 2)**0.5 + 3 * abs(x-2.5)\n",
        "\n",
        "#denominator_usingsqrt = math.sqrt(5*x**2 + 2)\n",
        "#abs = absolute value\n",
        "\n",
        "print(\"y =\", numerator)\n",
        "print(\"y =\", denominator)\n",
        "print(\"y =\", numerator/denominator)\n"
      ],
      "metadata": {
        "colab": {
          "base_uri": "https://localhost:8080/"
        },
        "id": "LJHP67z9VqeJ",
        "outputId": "df9c3a88-2ee5-4dae-b3a8-9ba3ff350ef7"
      },
      "execution_count": 1,
      "outputs": [
        {
          "output_type": "stream",
          "name": "stdout",
          "text": [
            "y = -162\n",
            "y = 23.355654600401046\n",
            "y = -6.9362217746283275\n"
          ]
        }
      ]
    },
    {
      "cell_type": "code",
      "source": [
        "#print all values of x from -3 to 3. Increment x by 0.5.\n",
        "\n",
        "x = -3\n",
        "while x <= 3:\n",
        "  numerator = 4* x**3 - 12*x**2 - 9*x + 27\n",
        "  denominator = (5*x**2 + 2)**0.5 + 3 * abs(x-2.5)\n",
        "\n",
        "  y = numerator/denominator\n",
        "\n",
        "  print(f'X = {x} \\t Y = {y}')\n",
        "  x += 0.5"
      ],
      "metadata": {
        "colab": {
          "base_uri": "https://localhost:8080/"
        },
        "id": "9mxUUrUUT1_W",
        "outputId": "3e3f142c-e0e9-4841-f0ec-4e1f34793749"
      },
      "execution_count": 32,
      "outputs": [
        {
          "output_type": "stream",
          "name": "stdout",
          "text": [
            "X = -3 \t Y = -6.9362217746283275\n",
            "X = -2.5 \t Y = -4.2376388309490745\n",
            "X = -2.0 \t Y = -1.9240901616610293\n",
            "X = -1.5 \t Y = 0.0\n",
            "X = -1.0 \t Y = 1.5214041043942683\n",
            "X = -0.5 \t Y = 2.5919264584373525\n",
            "X = 0.0 \t Y = 3.0288706694179983\n",
            "X = 0.5 \t Y = 2.563190450240003\n",
            "X = 1.0 \t Y = 1.399432972781441\n",
            "X = 1.5 \t Y = 0.0\n",
            "X = 2.0 \t Y = -1.1307802693045066\n",
            "X = 2.5 \t Y = -1.387375951238592\n",
            "X = 3.0 \t Y = 0.0\n"
          ]
        }
      ]
    },
    {
      "cell_type": "markdown",
      "source": [
        "# **Question 2: Print messages if y is positive, negative or = 0**"
      ],
      "metadata": {
        "id": "kueP4Rhx3zJA"
      }
    },
    {
      "cell_type": "code",
      "source": [
        "# Find if Y is negative or positive\n",
        "\n",
        "y = numerator / denominator\n",
        "\n",
        "# if y is negative\n",
        "if y < 0:\n",
        "    print(f'X = {x} \\t Y = {y}, y is negative')\n",
        "# if y is positive\n",
        "elif y > 0:\n",
        "    print(f'X = {x} \\t Y = {y}, y is positive')\n",
        "# if y is zero\n",
        "else:\n",
        "    print(f'X = {x} \\t Y = {y}, y is zero')\n",
        "    x += 0.5\n"
      ],
      "metadata": {
        "colab": {
          "base_uri": "https://localhost:8080/"
        },
        "id": "mbj1by02V2lz",
        "outputId": "c002ca0b-e5cc-4435-afa1-3c8464d2ae67"
      },
      "execution_count": 33,
      "outputs": [
        {
          "output_type": "stream",
          "name": "stdout",
          "text": [
            "X = 3.5 \t Y = 0.0, y is zero\n"
          ]
        }
      ]
    },
    {
      "cell_type": "markdown",
      "source": [
        "# **Scraping Websites Using HTML**"
      ],
      "metadata": {
        "id": "u8H6qWINiywg"
      }
    },
    {
      "cell_type": "markdown",
      "source": [
        "# First Example: Scraping for h and p"
      ],
      "metadata": {
        "id": "1aQLt_u478iC"
      }
    },
    {
      "cell_type": "code",
      "source": [
        "# import libraries\n",
        "import requests\n",
        "from bs4 import BeautifulSoup"
      ],
      "metadata": {
        "id": "l2PQ4wD6b6C1"
      },
      "execution_count": 2,
      "outputs": []
    },
    {
      "cell_type": "code",
      "source": [
        "url = 'https://rubenjesus02002.github.io/Website-Test/'"
      ],
      "metadata": {
        "id": "qCRHsh2bcP8W"
      },
      "execution_count": 3,
      "outputs": []
    },
    {
      "cell_type": "code",
      "source": [
        "page = requests.get(url)"
      ],
      "metadata": {
        "id": "uWLVl2OFckbt"
      },
      "execution_count": 4,
      "outputs": []
    },
    {
      "cell_type": "code",
      "source": [
        "page.status_code"
      ],
      "metadata": {
        "colab": {
          "base_uri": "https://localhost:8080/"
        },
        "id": "DCiKzm_FfK2H",
        "outputId": "0b79b220-2326-420c-85e2-82418a9e962d"
      },
      "execution_count": 5,
      "outputs": [
        {
          "output_type": "execute_result",
          "data": {
            "text/plain": [
              "200"
            ]
          },
          "metadata": {},
          "execution_count": 5
        }
      ]
    },
    {
      "cell_type": "markdown",
      "source": [
        "#Scrapes All Page Content"
      ],
      "metadata": {
        "id": "PmFKfStD4qpl"
      }
    },
    {
      "cell_type": "code",
      "source": [
        "page.content"
      ],
      "metadata": {
        "colab": {
          "base_uri": "https://localhost:8080/"
        },
        "id": "T-WHN-J5cyGi",
        "outputId": "a19707bc-8fed-4451-962f-be1a567b6178"
      },
      "execution_count": 6,
      "outputs": [
        {
          "output_type": "execute_result",
          "data": {
            "text/plain": [
              "b'<!DOCTYPE html>\\n<html>\\t\\n\\t<head>\\n\\t\\t<title> Welcome to CIS 3120! </title>\\n\\t</head>\\n\\n\\t<body>\\n\\t\\t<!-- This is a comment!! --> \\n\\t\\t<h1> Welcome to CIS 3120!</h1>\\n\\n\\t\\t<p> Here we learn programming for analytics!</p>\\n\\t</body>\\n\\n\\n\\n</html> \\n'"
            ]
          },
          "metadata": {},
          "execution_count": 6
        }
      ]
    },
    {
      "cell_type": "code",
      "source": [
        "soup = BeautifulSoup(page.content,'html.parser')"
      ],
      "metadata": {
        "id": "EViV6VZQdzNi"
      },
      "execution_count": 7,
      "outputs": []
    },
    {
      "cell_type": "code",
      "source": [
        "print(soup.prettify())"
      ],
      "metadata": {
        "colab": {
          "base_uri": "https://localhost:8080/"
        },
        "id": "xAQxnPOTd7Rq",
        "outputId": "d9e55d48-4a0d-460d-84f9-a7cc87febbbe"
      },
      "execution_count": 8,
      "outputs": [
        {
          "output_type": "stream",
          "name": "stdout",
          "text": [
            "<!DOCTYPE html>\n",
            "<html>\n",
            " <head>\n",
            "  <title>\n",
            "   Welcome to CIS 3120!\n",
            "  </title>\n",
            " </head>\n",
            " <body>\n",
            "  <!-- This is a comment!! -->\n",
            "  <h1>\n",
            "   Welcome to CIS 3120!\n",
            "  </h1>\n",
            "  <p>\n",
            "   Here we learn programming for analytics!\n",
            "  </p>\n",
            " </body>\n",
            "</html>\n",
            "\n"
          ]
        }
      ]
    },
    {
      "cell_type": "code",
      "source": [
        "# Finds all h1 tags\n",
        "h1_tag = soup.find('h1')"
      ],
      "metadata": {
        "id": "_rHZFgLeeeVZ"
      },
      "execution_count": 9,
      "outputs": []
    },
    {
      "cell_type": "code",
      "source": [
        "# Extract the contents of h1_tag\n",
        "print(h1_tag.text)"
      ],
      "metadata": {
        "colab": {
          "base_uri": "https://localhost:8080/"
        },
        "id": "1q0Lw6YtetJT",
        "outputId": "a0877f77-2e01-4bbb-c0bd-49fffbc33c1f"
      },
      "execution_count": 11,
      "outputs": [
        {
          "output_type": "stream",
          "name": "stdout",
          "text": [
            " Welcome to CIS 3120!\n"
          ]
        }
      ]
    },
    {
      "cell_type": "code",
      "source": [
        "# Extracting the <p> tag\n",
        "p_tag = soup.find('p')\n",
        "p_tag"
      ],
      "metadata": {
        "colab": {
          "base_uri": "https://localhost:8080/"
        },
        "id": "IJYXCp_TfC38",
        "outputId": "62a6fc69-5256-4f32-d86a-ce87f336a7ba"
      },
      "execution_count": 12,
      "outputs": [
        {
          "output_type": "execute_result",
          "data": {
            "text/plain": [
              "<p> Here we learn programming for analytics!</p>"
            ]
          },
          "metadata": {},
          "execution_count": 12
        }
      ]
    },
    {
      "cell_type": "code",
      "source": [
        "# Extracting the content of the <p> tag\n",
        "print(p_tag.text)"
      ],
      "metadata": {
        "colab": {
          "base_uri": "https://localhost:8080/"
        },
        "id": "MP6AHSNAh-sQ",
        "outputId": "abc4df4c-afb2-43c7-9946-23691e404901"
      },
      "execution_count": 14,
      "outputs": [
        {
          "output_type": "stream",
          "name": "stdout",
          "text": [
            " Here we learn programming for analytics!\n"
          ]
        }
      ]
    },
    {
      "cell_type": "markdown",
      "source": [
        "## **Second Example**"
      ],
      "metadata": {
        "id": "4TLvmixNipcu"
      }
    },
    {
      "cell_type": "code",
      "source": [
        "import requests\n",
        "from bs4 import BeautifulSoup"
      ],
      "metadata": {
        "id": "ugId6F3aivA8"
      },
      "execution_count": 15,
      "outputs": []
    },
    {
      "cell_type": "markdown",
      "source": [
        "Set URL"
      ],
      "metadata": {
        "id": "zK_H3MuhjAvT"
      }
    },
    {
      "cell_type": "code",
      "source": [
        "url = 'https://rubenjesus02002.github.io/Website-Test/'"
      ],
      "metadata": {
        "id": "B2GM1IMnjB-_"
      },
      "execution_count": 16,
      "outputs": []
    },
    {
      "cell_type": "markdown",
      "source": [
        "make request to the server"
      ],
      "metadata": {
        "id": "SY2lNBh7jFSL"
      }
    },
    {
      "cell_type": "code",
      "source": [
        "page = requests.get(url)"
      ],
      "metadata": {
        "id": "SNqcAZAJjG0X"
      },
      "execution_count": null,
      "outputs": []
    },
    {
      "cell_type": "code",
      "source": [
        "#want to see 200 status code\n",
        "page.status_code"
      ],
      "metadata": {
        "id": "pNqW0bVjjKnm"
      },
      "execution_count": null,
      "outputs": []
    },
    {
      "cell_type": "code",
      "source": [
        "soup = BeautifulSoup(page.content,'html.parser')"
      ],
      "metadata": {
        "id": "HOe7RMI_jMz9"
      },
      "execution_count": null,
      "outputs": []
    },
    {
      "cell_type": "markdown",
      "source": [
        ".find all('tag') - returns a list of all matching tags"
      ],
      "metadata": {
        "id": "QHLNBeUNjWoW"
      }
    },
    {
      "cell_type": "code",
      "source": [
        "# Finds all <p> paragraph tags\n",
        "p_tags = soup.find_all('p')\n",
        "p_tags"
      ],
      "metadata": {
        "id": "Mb2RHo34jcki"
      },
      "execution_count": null,
      "outputs": []
    },
    {
      "cell_type": "code",
      "source": [
        "# Extract contents of the elements (they are formatted as python lists)\n",
        "for p_tag in p_tags:\n",
        "  print(p_tag.text())"
      ],
      "metadata": {
        "id": "DA7L8LFSjhfp"
      },
      "execution_count": null,
      "outputs": []
    },
    {
      "cell_type": "code",
      "source": [
        "# Finds all <h1> tags\n",
        "h1_tag = soup.find_all('h1')\n",
        "h1_tags"
      ],
      "metadata": {
        "id": "283Rnjs4kXHJ"
      },
      "execution_count": null,
      "outputs": []
    },
    {
      "cell_type": "code",
      "source": [
        "# Extract the content of all <h1>\n",
        "for h1_tag in h1_tags:=\n",
        "  print(h1_tag.text())"
      ],
      "metadata": {
        "id": "uek2vaVflRr5"
      },
      "execution_count": null,
      "outputs": []
    },
    {
      "cell_type": "code",
      "source": [
        "#Extract the contents of all <h2> tags WE DO FIND BECAUSE THERES ONLY ONE\n",
        "h2_tag = soup.find('h2')\n",
        "\n",
        "# OR\n",
        "\n",
        "h2_tag = soup.find_all('h2') # This will give us a list and we will still have to extract so just do\n",
        "h2_tag.[0]\n",
        "\n",
        "# OR\n",
        "\n",
        "#Use .text\n",
        "\n"
      ],
      "metadata": {
        "id": "N5k8PAaWlnNt"
      },
      "execution_count": null,
      "outputs": []
    },
    {
      "cell_type": "code",
      "source": [],
      "metadata": {
        "id": "XDJJVMpDmmhh"
      },
      "execution_count": null,
      "outputs": []
    }
  ]
}